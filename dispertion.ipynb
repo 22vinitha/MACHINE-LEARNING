{
  "nbformat": 4,
  "nbformat_minor": 0,
  "metadata": {
    "colab": {
      "provenance": [],
      "authorship_tag": "ABX9TyPdD6xjhITWf2yOYerhOz5K",
      "include_colab_link": true
    },
    "kernelspec": {
      "name": "python3",
      "display_name": "Python 3"
    },
    "language_info": {
      "name": "python"
    }
  },
  "cells": [
    {
      "cell_type": "markdown",
      "metadata": {
        "id": "view-in-github",
        "colab_type": "text"
      },
      "source": [
        "<a href=\"https://colab.research.google.com/github/22vinitha/DATA-SCIENCE/blob/main/dispertion.ipynb\" target=\"_parent\"><img src=\"https://colab.research.google.com/assets/colab-badge.svg\" alt=\"Open In Colab\"/></a>"
      ]
    },
    {
      "cell_type": "code",
      "execution_count": 1,
      "metadata": {
        "colab": {
          "base_uri": "https://localhost:8080/"
        },
        "id": "rzv232ti0r8C",
        "outputId": "3ca1eeb6-1b07-418b-adf4-0e8180825e3e"
      },
      "outputs": [
        {
          "output_type": "stream",
          "name": "stdout",
          "text": [
            "range(without function) 5\n",
            "range(with function) 5\n"
          ]
        }
      ],
      "source": [
        "#range without function\n",
        "data=[1,2,3,4,5,6]\n",
        "minimum=maximum=data[0]\n",
        "for num in data:\n",
        "    if num<=minimum:\n",
        "        minimum=num\n",
        "    else:\n",
        "        maximum=num\n",
        "range=maximum-minimum\n",
        "print(\"range(without function)\",range)\n",
        "\n",
        "#range with function\n",
        "import numpy as np\n",
        "data=[1,2,3,4,5,6]\n",
        "min=np.min(data)\n",
        "max=np.max(data)\n",
        "range1=max-min\n",
        "print('range(with function)',range1)\n"
      ]
    },
    {
      "cell_type": "code",
      "source": [
        "#variance without function\n",
        "data = [1, 2, 3, 4, 5, 6]\n",
        "\n",
        "#  Calculate the mean\n",
        "mean =sum(data) / len(data)\n",
        "\n",
        "#  Calculate the squared differences from the mean\n",
        "squared_diff = [(x - mean) ** 2 for x in data]\n",
        "\n",
        "#  Sum up the squared differences\n",
        "sum_squared_diff = sum(squared_diff)\n",
        "\n",
        "# Step 4: Calculate the variance\n",
        "variance1 = sum_squared_diff / len(data)\n",
        "variance2 = sum_squared_diff / (len(data)-1)\n",
        "\n",
        "print(\" simple Variance(without function):\", variance1)\n",
        "print(\"population Variance:\", variance2)\n",
        "\n",
        "\n",
        "#using function\n",
        "import numpy as np\n",
        "data = [1, 2, 3, 4, 5, 6]\n",
        "print(\"variance(with function):\",np.var(data))"
      ],
      "metadata": {
        "colab": {
          "base_uri": "https://localhost:8080/"
        },
        "id": "8R8P_ElG0_qm",
        "outputId": "63ab5208-dce4-4647-cead-a71d4a51cd3b"
      },
      "execution_count": 2,
      "outputs": [
        {
          "output_type": "stream",
          "name": "stdout",
          "text": [
            " simple Variance(without function): 2.9166666666666665\n",
            "population Variance: 3.5\n",
            "variance(with function): 2.9166666666666665\n"
          ]
        }
      ]
    },
    {
      "cell_type": "code",
      "source": [
        "#variance without function\n",
        "data = [1, 2, 3, 4, 5, 6]\n",
        "\n",
        "#  Calculate the mean\n",
        "mean =sum(data) / len(data)\n",
        "\n",
        "#  Calculate the squared differences from the mean\n",
        "squared_diff = [(x - mean) ** 2 for x in data]\n",
        "\n",
        "#  Sum up the squared differences\n",
        "sum_squared_diff = sum(squared_diff)\n",
        "\n",
        "# Step 4: Calculate the variance\n",
        "variance1 = sum_squared_diff / len(data)\n",
        "variance2 = sum_squared_diff / (len(data)-1)\n",
        "\n",
        "print(\" simple Variance(without function):\", variance1)\n",
        "print(\"population Variance:\", variance2)\n",
        "\n",
        "\n",
        "#using function\n",
        "import numpy as np\n",
        "data = [1, 2, 3, 4, 5, 6]\n",
        "print(\"variance(with function):\",np.var(data))"
      ],
      "metadata": {
        "colab": {
          "base_uri": "https://localhost:8080/"
        },
        "id": "U5HWvAUL1IXW",
        "outputId": "9cc63cc5-e04b-44c4-9b71-72f505a2fe33"
      },
      "execution_count": 3,
      "outputs": [
        {
          "output_type": "stream",
          "name": "stdout",
          "text": [
            " simple Variance(without function): 2.9166666666666665\n",
            "population Variance: 3.5\n",
            "variance(with function): 2.9166666666666665\n"
          ]
        }
      ]
    },
    {
      "cell_type": "code",
      "source": [
        "#IQR using function\n",
        "from scipy import stats\n",
        "\n",
        "data = [32, 36, 46, 47, 56, 69, 75, 79, 79, 88, 89, 91, 92, 93, 96, 97,\n",
        "\t\t101, 105, 112, 116]\n",
        "\n",
        "IQR = stats.iqr(data, interpolation = 'midpoint')\n",
        "\n",
        "print(IQR)\n",
        "#IQR without using functtion\n"
      ],
      "metadata": {
        "colab": {
          "base_uri": "https://localhost:8080/"
        },
        "id": "U3Un-mtN1Q-O",
        "outputId": "48c1efe0-e419-4ca1-bb1d-935d22eec4c3"
      },
      "execution_count": 4,
      "outputs": [
        {
          "output_type": "stream",
          "name": "stdout",
          "text": [
            "34.0\n"
          ]
        }
      ]
    },
    {
      "cell_type": "code",
      "source": [
        "# Python3 program to find IQR of\n",
        "# a data set\n",
        "a = [1, 19, 7, 6, 5, 9, 12, 27, 18, 2, 15]\n",
        "# Function to give index of the median\n",
        "def median(a, l, r):\n",
        "\tn = r - l + 1\n",
        "\tn = (n + 1) // 2 - 1\n",
        "\treturn n + l\n",
        "\n",
        "# Function to calculate IQR\n",
        "def IQR(a, n):\n",
        "\n",
        "\ta.sort()\n",
        "\n",
        "\t# Index of median of entire data\n",
        "\tmid_index = median(a, 0, n)\n",
        "\n",
        "\t# Median of first half\n",
        "\tQ1 = a[median(a, 0, mid_index)]\n",
        "\n",
        "\t# Median of second half\n",
        "\tQ3 = a[ median(a, mid_index + 1, n)]\n",
        "\n",
        "\t# IQR calculation\n",
        "\treturn (Q3 - Q1)\n",
        "\n",
        "# Driver Function\n",
        "if __name__=='__main__':\n",
        "\n",
        "\tn = len(a)\n",
        "\tprint(IQR(a, n))\n"
      ],
      "metadata": {
        "colab": {
          "base_uri": "https://localhost:8080/"
        },
        "id": "znJwaNp51Zp-",
        "outputId": "908ce1ee-4491-4e77-fc18-6432edf94bfb"
      },
      "execution_count": 5,
      "outputs": [
        {
          "output_type": "stream",
          "name": "stdout",
          "text": [
            "13\n"
          ]
        }
      ]
    }
  ]
}